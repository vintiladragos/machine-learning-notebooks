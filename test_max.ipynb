{
 "cells": [
  {
   "cell_type": "code",
   "execution_count": 11,
   "outputs": [
    {
     "name": "stderr",
     "output_type": "stream",
     "text": [
      "WARNING:tvDatafeed.main:you are using nologin method, data you access may be limited\n"
     ]
    }
   ],
   "source": [
    "# model predicts the min and max value for the next 60 days\n",
    "from tvDatafeed import TvDatafeed, Interval\n",
    "tv = TvDatafeed()\n",
    "vix = tv.get_hist(symbol=\"VIX\", exchange=\"PEPPERSTONE\", interval=Interval.in_daily, n_bars=180)\n",
    "# vix = tv.get_hist(symbol=\"VIX\", exchange=\"PEPPERSTONE\", interval=Interval.in_daily, n_bars=2000)\n",
    "vix.to_csv('predout.csv')"
   ],
   "metadata": {
    "collapsed": false
   }
  },
  {
   "cell_type": "code",
   "execution_count": 12,
   "metadata": {
    "collapsed": true
   },
   "outputs": [],
   "source": [
    "from keras.models import load_model\n",
    "import keras.backend as k\n",
    "from datetime import datetime\n",
    "def loss_function(y_true, y_pred):\n",
    "    \"\"\"\n",
    "    Custom MSE-function that makes predicted values smaller than the actual value less impactful/important\n",
    "    \"\"\"\n",
    "    loss_tensor = k.mean(k.abs(y_pred - y_true), axis=-1)\n",
    "    loss_tensor = k.switch(k.greater(y_pred[-1], y_true[-1]), loss_tensor, loss_tensor/2)\n",
    "    return loss_tensor\n",
    "\n",
    "# minactual: loss_tensor = k.switch(k.greater(y_pred[-1], y_true[-1]), loss_tensor*2, loss_tensor/1000)\n",
    "# maxactual: loss_tensor = k.switch(k.greater(y_pred[-1], y_true[-1]), loss_tensor, loss_tensor/2)\n",
    "\n",
    "\n",
    "model_max=load_model(\"test_max.h5\",\n",
    "                 custom_objects= {\"loss_function\": loss_function})\n",
    "model_min=load_model(\"test_min.h5\",\n",
    "                 custom_objects= {\"loss_function\": loss_function})"
   ]
  },
  {
   "cell_type": "code",
   "execution_count": 13,
   "outputs": [],
   "source": [
    "import pandas as pd\n",
    "import tensorflow as tf\n",
    "import matplotlib.pyplot as plt"
   ],
   "metadata": {
    "collapsed": false
   }
  },
  {
   "cell_type": "code",
   "execution_count": 14,
   "outputs": [
    {
     "name": "stdout",
     "output_type": "stream",
     "text": [
      "                datetime           symbol   open   high    low  close   volume\n",
      "0    2022-07-14 00:00:00  PEPPERSTONE:VIX  27.90  28.98  27.67  27.77  12240.0\n",
      "1    2022-07-15 00:00:00  PEPPERSTONE:VIX  27.76  28.10  26.32  26.43   6022.0\n",
      "2    2022-07-18 01:00:00  PEPPERSTONE:VIX  26.36  27.49  26.13  27.19   3506.0\n",
      "3    2022-07-19 00:00:00  PEPPERSTONE:VIX  27.19  27.25  26.42  26.83   3062.0\n",
      "4    2022-07-20 00:00:00  PEPPERSTONE:VIX  26.83  27.15  26.23  26.47   4814.0\n",
      "..                   ...              ...    ...    ...    ...    ...      ...\n",
      "175  2023-03-20 00:00:00  PEPPERSTONE:VIX  25.68  28.14  24.69  24.84  21380.0\n",
      "176  2023-03-20 23:00:00  PEPPERSTONE:VIX  24.84  24.95  22.61  22.76   7286.0\n",
      "177  2023-03-21 23:00:00  PEPPERSTONE:VIX  22.86  23.61  21.88  23.56  12004.0\n",
      "178  2023-03-22 23:00:00  PEPPERSTONE:VIX  23.51  24.60  22.00  23.88  14790.0\n",
      "179  2023-03-23 23:00:00  PEPPERSTONE:VIX  23.86  26.17  23.21  23.34  21532.0\n",
      "\n",
      "[180 rows x 7 columns]\n"
     ]
    }
   ],
   "source": [
    "column_names = ['datetime','symbol','open','high','low','close','volume']\n",
    "dataframe = pd.read_csv(\"predout.csv\", header=0)\n",
    "dataframe['close'] = dataframe['close'].clip(upper=40)\n",
    "print(dataframe)"
   ],
   "metadata": {
    "collapsed": false
   }
  },
  {
   "cell_type": "code",
   "execution_count": 15,
   "outputs": [
    {
     "name": "stderr",
     "output_type": "stream",
     "text": [
      "WARNING:tensorflow:5 out of the last 5 calls to <function Model.make_predict_function.<locals>.predict_function at 0x00000211CBF44EE0> triggered tf.function retracing. Tracing is expensive and the excessive number of tracings could be due to (1) creating @tf.function repeatedly in a loop, (2) passing tensors with different shapes, (3) passing Python objects instead of tensors. For (1), please define your @tf.function outside of the loop. For (2), @tf.function has reduce_retracing=True option that can avoid unnecessary retracing. For (3), please refer to https://www.tensorflow.org/guide/function#controlling_retracing and https://www.tensorflow.org/api_docs/python/tf/function for  more details.\n"
     ]
    },
    {
     "name": "stdout",
     "output_type": "stream",
     "text": [
      "1/1 [==============================] - 0s 231ms/step\n"
     ]
    },
    {
     "name": "stderr",
     "output_type": "stream",
     "text": [
      "WARNING:tensorflow:6 out of the last 6 calls to <function Model.make_predict_function.<locals>.predict_function at 0x00000211CBF4C1F0> triggered tf.function retracing. Tracing is expensive and the excessive number of tracings could be due to (1) creating @tf.function repeatedly in a loop, (2) passing tensors with different shapes, (3) passing Python objects instead of tensors. For (1), please define your @tf.function outside of the loop. For (2), @tf.function has reduce_retracing=True option that can avoid unnecessary retracing. For (3), please refer to https://www.tensorflow.org/guide/function#controlling_retracing and https://www.tensorflow.org/api_docs/python/tf/function for  more details.\n"
     ]
    },
    {
     "name": "stdout",
     "output_type": "stream",
     "text": [
      "1/1 [==============================] - 0s 213ms/step\n",
      "[[17.404903]]\n",
      "[[28.712955]]\n"
     ]
    },
    {
     "data": {
      "text/plain": "Text(190, 29.412955474853515, '28.713')"
     },
     "execution_count": 15,
     "metadata": {},
     "output_type": "execute_result"
    },
    {
     "data": {
      "text/plain": "<Figure size 432x288 with 1 Axes>",
      "image/png": "[encoded data removed]"
     },
     "metadata": {
      "needs_background": "light"
     },
     "output_type": "display_data"
    }
   ],
   "source": [
    "close_data = dataframe['close']\n",
    "def normalize(test_data, mean, std):\n",
    "    return (test_data - mean) / std\n",
    "\n",
    "def de_normalize(output_data, mean, std):\n",
    "    return output_data * std + mean\n",
    "\n",
    "mean = 19.548277033033017\n",
    "std = 6.891276427284751\n",
    "# close_data.plot(x=\"Index Value\", y=\"Step\")\n",
    "plot_ = plt.subplot()\n",
    "plot_.plot(close_data)\n",
    "\n",
    "close_data = normalize(close_data, mean, std)\n",
    "#close_data.plot(x=\"Index Value\", y=\"Step\")\n",
    "\n",
    "tensor = tf.convert_to_tensor(close_data.values)\n",
    "tensor = tf.expand_dims(tensor, 0)\n",
    "tensor = tf.expand_dims(tensor, -1)\n",
    "\n",
    "val_max = model_max.predict(tensor)\n",
    "val_max = de_normalize(val_max, mean, std)\n",
    "val_min = model_min.predict(tensor)\n",
    "val_min = de_normalize(val_min, mean, std)\n",
    "\n",
    "print(val_min)\n",
    "print(val_max)\n",
    "\n",
    "\n",
    "plot_.set_title(\"Prediction for \" + str(pd.to_datetime(dataframe['datetime'].iloc[-1]).date()))\n",
    "\n",
    "for i in range(180,240):\n",
    "    plot_.plot(i, val_min[0], \"rx\")\n",
    "    plot_.plot(i, val_max[0], \"bx\")\n",
    "plot_.legend([\"Historical Values\", \"Min Value(conservative estimate)\", \"Max Value(conservative estimate)\"])\n",
    "plot_.annotate(str(round(val_min[0][0], 3)), [190, val_min[0][0]+0.7])\n",
    "plot_.annotate(str(round(val_max[0][0], 3)), [190, val_max[0][0]+0.7])"
   ],
   "metadata": {
    "collapsed": false
   }
  },
  {
   "cell_type": "code",
   "execution_count": 15,
   "outputs": [],
   "source": [],
   "metadata": {
    "collapsed": false
   }
  }
 ],
 "metadata": {
  "kernelspec": {
   "display_name": "Python 3",
   "language": "python",
   "name": "python3"
  },
  "language_info": {
   "codemirror_mode": {
    "name": "ipython",
    "version": 2
   },
   "file_extension": ".py",
   "mimetype": "text/x-python",
   "name": "python",
   "nbconvert_exporter": "python",
   "pygments_lexer": "ipython2",
   "version": "2.7.6"
  }
 },
 "nbformat": 4,
 "nbformat_minor": 0
}
